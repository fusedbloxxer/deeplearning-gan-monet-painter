{
 "cells": [
  {
   "cell_type": "code",
   "execution_count": 1,
   "metadata": {},
   "outputs": [],
   "source": [
    "# Always reload .py files\n",
    "%load_ext autoreload\n",
    "%autoreload 2\n",
    "\n",
    "# Configuration\n",
    "environment = 'local'"
   ]
  },
  {
   "cell_type": "code",
   "execution_count": 2,
   "metadata": {},
   "outputs": [],
   "source": [
    "%%capture\n",
    "\n",
    "# Install dependencies\n",
    "if environment == 'local':\n",
    "    %pip install -r ../requirements.txt\n",
    "else:\n",
    "    %pip install ipykernel kaggle matplotlib autopep8 pillow pandas numpy scipy urllib3 scikit-image --find-links https://download.pytorch.org/whl/cu113/torch_stable.html torch==1.11.0+cu113 torchaudio==0.11.0+cu113 torchvision==0.12.0+cu113 torch_tb_profiler tensorboard"
   ]
  },
  {
   "cell_type": "code",
   "execution_count": 3,
   "metadata": {},
   "outputs": [],
   "source": [
    "if environment == 'colab':\n",
    "    from google.colab import files\n",
    "    import pathlib\n",
    "    import os\n",
    "\n",
    "    kaggle_path = '/root/.kaggle/kaggle.json'\n",
    "\n",
    "    if not os.path.exists(kaggle_path):\n",
    "      uploaded = files.upload()\n",
    "\n",
    "      if not 'kaggle.json' in uploaded:\n",
    "          raise Exception('Kaggle.json not found')\n",
    "\n",
    "      pathlib.Path('/root/.kaggle').mkdir(exist_ok=True)\n",
    "      os.rename('./kaggle.json', kaggle_path)\n",
    "\n",
    "      !chmod 600 /root/.kaggle/kaggle.json"
   ]
  },
  {
   "cell_type": "code",
   "execution_count": 5,
   "metadata": {},
   "outputs": [
    {
     "name": "stdout",
     "output_type": "stream",
     "text": [
      "Downloading gan-getting-started.zip to ../data\n"
     ]
    },
    {
     "name": "stderr",
     "output_type": "stream",
     "text": [
      "100%|██████████| 367M/367M [00:07<00:00, 49.7MB/s] \n"
     ]
    },
    {
     "name": "stdout",
     "output_type": "stream",
     "text": [
      "\n"
     ]
    }
   ],
   "source": [
    "from dataset import download_dataset\n",
    "\n",
    "download_dataset('../data')\n"
   ]
  }
 ],
 "metadata": {
  "interpreter": {
   "hash": "4a0fff2e425a2a6687b13bd0f231e609905d29622800fc604b68a95bee8bdbdc"
  },
  "kernelspec": {
   "display_name": "Python 3.9.7 ('venv': venv)",
   "language": "python",
   "name": "python3"
  },
  "language_info": {
   "codemirror_mode": {
    "name": "ipython",
    "version": 3
   },
   "file_extension": ".py",
   "mimetype": "text/x-python",
   "name": "python",
   "nbconvert_exporter": "python",
   "pygments_lexer": "ipython3",
   "version": "3.9.7"
  },
  "orig_nbformat": 4
 },
 "nbformat": 4,
 "nbformat_minor": 2
}
